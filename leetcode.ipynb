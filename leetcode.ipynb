{
 "cells": [
  {
   "cell_type": "markdown",
   "metadata": {},
   "source": [
    "#Two Sum  https://leetcode.com/problems/two-sum/\n",
    "\n",
    "Input: nums = [2,7,11,15], target = 9\n",
    "Output: [0,1]\n",
    "Explanation: Because nums[0] + nums[1] == 9, we return [0, 1].\n"
   ]
  },
  {
   "cell_type": "code",
   "execution_count": 45,
   "metadata": {},
   "outputs": [],
   "source": [
    "# def twosum(nums,target):\n",
    "    \n",
    "#     for n in range(len(nums)):       \n",
    "#         for j in range(len(nums)):            \n",
    "#             if nums[n]==target-nums[j]:               \n",
    "#                 return [n,j]\n",
    "\n",
    "# nums = [3,2,4]\n",
    "# target = 6\n",
    "# twosum(nums,target)"
   ]
  },
  {
   "cell_type": "code",
   "execution_count": 46,
   "metadata": {},
   "outputs": [
    {
     "data": {
      "text/plain": [
       "[1, 2]"
      ]
     },
     "execution_count": 46,
     "metadata": {},
     "output_type": "execute_result"
    }
   ],
   "source": [
    "def twosum(nums,target):\n",
    "    \n",
    "    for i,num in enumerate(nums):     \n",
    "        if (target-num) in nums:\n",
    "            if nums.index(target-num) != i:\n",
    "                return [i,nums.index(target-num)]\n",
    "        \n",
    "\n",
    "nums = [3,2,4]\n",
    "target = 6\n",
    "twosum(nums,target)"
   ]
  },
  {
   "cell_type": "markdown",
   "metadata": {},
   "source": [
    "#9. Palindrome Number   https://leetcode.com/problems/palindrome-number/"
   ]
  },
  {
   "cell_type": "code",
   "execution_count": 47,
   "metadata": {},
   "outputs": [
    {
     "data": {
      "text/plain": [
       "True"
      ]
     },
     "execution_count": 47,
     "metadata": {},
     "output_type": "execute_result"
    }
   ],
   "source": [
    "def isPalindrome(x):\n",
    "    \n",
    "    x=str(x)\n",
    "    for n in range(len(x)):\n",
    "        if x[n]==x[-(n+1)]:       \n",
    "            continue\n",
    "        else: \n",
    "            return False\n",
    "    return True\n",
    "            \n",
    "x = 100001\n",
    "isPalindrome(x)"
   ]
  },
  {
   "cell_type": "markdown",
   "metadata": {},
   "source": [
    "#21. Merge Two Sorted Lists https://leetcode.com/problems/merge-two-sorted-lists/"
   ]
  },
  {
   "cell_type": "code",
   "execution_count": 49,
   "metadata": {},
   "outputs": [
    {
     "data": {
      "text/plain": [
       "[1, 1, 2, 3, 4, 4]"
      ]
     },
     "execution_count": 49,
     "metadata": {},
     "output_type": "execute_result"
    }
   ],
   "source": [
    "def mergeTwoLists( list1, list2):\n",
    "        \n",
    "        lst_= list1 + list2\n",
    "        lst_new=sorted(lst_)\n",
    "        return lst_new\n",
    "\n",
    "\n",
    "list1 = [1,2,4]\n",
    "list2 = [1,3,4]\n",
    "mergeTwoLists( list1, list2)\n",
    "\n",
    "####### Need to double Check\n"
   ]
  }
 ],
 "metadata": {
  "interpreter": {
   "hash": "1912b5ea7f4c5f4c202f824eb56edec823b355814ac90530b8d6527c038d652c"
  },
  "kernelspec": {
   "display_name": "Python 3.8.8 64-bit ('base': conda)",
   "language": "python",
   "name": "python3"
  },
  "language_info": {
   "codemirror_mode": {
    "name": "ipython",
    "version": 3
   },
   "file_extension": ".py",
   "mimetype": "text/x-python",
   "name": "python",
   "nbconvert_exporter": "python",
   "pygments_lexer": "ipython3",
   "version": "3.8.8"
  },
  "orig_nbformat": 4
 },
 "nbformat": 4,
 "nbformat_minor": 2
}
